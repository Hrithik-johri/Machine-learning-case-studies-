{
 "cells": [
  {
   "cell_type": "code",
   "execution_count": 6,
   "metadata": {
    "collapsed": false
   },
   "outputs": [
    {
     "name": "stdout",
     "output_type": "stream",
     "text": [
      "Pos\tTeam\tMatches\tPoints\tRating\t\n",
      "1\tIndia\t42\t5046\t120\t\n",
      "2\tAustralia\t40\t4320\t108\t\n",
      "3\tEngland\t50\t5253\t105\t\n",
      "4\tNew Zealand\t33\t3449\t105\t\n",
      "5\tSouth Africa\t36\t3537\t98\t\n",
      "6\tSri Lanka\t46\t4191\t91\t\n",
      "7\tPakistan\t33\t2795\t85\t\n",
      "8\tWest Indies\t33\t2675\t81\t\n",
      "9\tBangladesh\t26\t1566\t60\t\n",
      "10\tAfghanistan\t4\t195\t49\t\n",
      "11\tZimbabwe\t12\t208\t17\t\n",
      "12\tIreland\t3\t0\t0\t\n"
     ]
    }
   ],
   "source": [
    "from bs4 import BeautifulSoup\n",
    "import requests as rq\n",
    "raw_content = rq.get('http://stats.espncricinfo.com/ci/engine/records/team/series_results.html?class=2;id=6;type=team')\n",
    "bs4_content = BeautifulSoup(raw_content.text, 'html.parser')\n",
    "raw_content = rq.get('http://www.espncricinfo.com/rankings/content/page/211271.html')\n",
    "bs4_content = BeautifulSoup(raw_content.text, 'html.parser')\n",
    "count = 0\n",
    "for i in range(13):\n",
    "  for j in range(5):\n",
    "    print(bs4_content.find_all(class_ = 'left')[count].get_text(), end='\\t')\n",
    "    count += 1\n",
    "  print()"
   ]
  },
  {
   "cell_type": "code",
   "execution_count": null,
   "metadata": {
    "collapsed": true
   },
   "outputs": [],
   "source": []
  },
  {
   "cell_type": "code",
   "execution_count": null,
   "metadata": {
    "collapsed": true
   },
   "outputs": [],
   "source": []
  }
 ],
 "metadata": {
  "kernelspec": {
   "display_name": "Python 3",
   "language": "python",
   "name": "python3"
  },
  "language_info": {
   "codemirror_mode": {
    "name": "ipython",
    "version": 3
   },
   "file_extension": ".py",
   "mimetype": "text/x-python",
   "name": "python",
   "nbconvert_exporter": "python",
   "pygments_lexer": "ipython3",
   "version": "3.6.0"
  }
 },
 "nbformat": 4,
 "nbformat_minor": 2
}
