{
 "cells": [
  {
   "cell_type": "markdown",
   "metadata": {},
   "source": [
    "# MACHINE LEARNING\n",
    "\n",
    "## Final Project \n",
    "\n",
    "### Submitted To : Prof. Shifali Sharma\n",
    "### Submitted By : Hrithik Johri\n",
    "\n",
    "\n",
    "\n",
    "\n",
    "\n",
    "\n",
    "\n",
    "\n",
    "\n",
    "#### Importing require libraries"
   ]
  },
  {
   "cell_type": "code",
   "execution_count": 1,
   "metadata": {
    "collapsed": true
   },
   "outputs": [],
   "source": [
    "# warnings ignored\n",
    "\n",
    "import warnings\n",
    "warnings.filterwarnings('ignore')"
   ]
  },
  {
   "cell_type": "code",
   "execution_count": 3,
   "metadata": {
    "collapsed": true
   },
   "outputs": [],
   "source": [
    "#importing libraries....\n",
    "\n",
    "import pandas as pd\n",
    "import numpy as np\n",
    "import seaborn as sns\n",
    "import matplotlib.pyplot as plt\n",
    "from sklearn.svm import SVC\n",
    "from sklearn.model_selection import train_test_split\n",
    "from sklearn import metrics\n",
    "from sklearn.metrics import confusion_matrix\n",
    "from sklearn.model_selection import cross_val_score\n",
    "from sklearn.model_selection import KFold\n",
    "from sklearn.model_selection import GridSearchCV\n",
    "from sklearn.preprocessing import scale\n",
    "%matplotlib inline"
   ]
  },
  {
   "cell_type": "code",
   "execution_count": 4,
   "metadata": {
    "collapsed": true
   },
   "outputs": [],
   "source": [
    "#importing database..\n",
    "\n",
    "df = pd.read_csv('2.csv')\n"
   ]
  },
  {
   "cell_type": "code",
   "execution_count": 5,
   "metadata": {
    "collapsed": false
   },
   "outputs": [
    {
     "data": {
      "text/plain": [
       "(1728, 7)"
      ]
     },
     "execution_count": 5,
     "metadata": {},
     "output_type": "execute_result"
    }
   ],
   "source": [
    "#shape of database\n",
    "df.shape"
   ]
  },
  {
   "cell_type": "code",
   "execution_count": 6,
   "metadata": {
    "collapsed": false
   },
   "outputs": [
    {
     "data": {
      "text/html": [
       "<div>\n",
       "<style scoped>\n",
       "    .dataframe tbody tr th:only-of-type {\n",
       "        vertical-align: middle;\n",
       "    }\n",
       "\n",
       "    .dataframe tbody tr th {\n",
       "        vertical-align: top;\n",
       "    }\n",
       "\n",
       "    .dataframe thead th {\n",
       "        text-align: right;\n",
       "    }\n",
       "</style>\n",
       "<table border=\"1\" class=\"dataframe\">\n",
       "  <thead>\n",
       "    <tr style=\"text-align: right;\">\n",
       "      <th></th>\n",
       "      <th>buying</th>\n",
       "      <th>maint</th>\n",
       "      <th>doors</th>\n",
       "      <th>persons</th>\n",
       "      <th>lug_boot</th>\n",
       "      <th>safety</th>\n",
       "      <th>car</th>\n",
       "    </tr>\n",
       "  </thead>\n",
       "  <tbody>\n",
       "    <tr>\n",
       "      <th>0</th>\n",
       "      <td>vhigh</td>\n",
       "      <td>vhigh</td>\n",
       "      <td>two</td>\n",
       "      <td>two</td>\n",
       "      <td>small</td>\n",
       "      <td>low</td>\n",
       "      <td>unacc</td>\n",
       "    </tr>\n",
       "    <tr>\n",
       "      <th>1</th>\n",
       "      <td>vhigh</td>\n",
       "      <td>vhigh</td>\n",
       "      <td>two</td>\n",
       "      <td>two</td>\n",
       "      <td>small</td>\n",
       "      <td>med</td>\n",
       "      <td>unacc</td>\n",
       "    </tr>\n",
       "    <tr>\n",
       "      <th>2</th>\n",
       "      <td>vhigh</td>\n",
       "      <td>vhigh</td>\n",
       "      <td>two</td>\n",
       "      <td>two</td>\n",
       "      <td>small</td>\n",
       "      <td>high</td>\n",
       "      <td>unacc</td>\n",
       "    </tr>\n",
       "    <tr>\n",
       "      <th>3</th>\n",
       "      <td>vhigh</td>\n",
       "      <td>vhigh</td>\n",
       "      <td>two</td>\n",
       "      <td>two</td>\n",
       "      <td>med</td>\n",
       "      <td>low</td>\n",
       "      <td>unacc</td>\n",
       "    </tr>\n",
       "    <tr>\n",
       "      <th>4</th>\n",
       "      <td>vhigh</td>\n",
       "      <td>vhigh</td>\n",
       "      <td>two</td>\n",
       "      <td>two</td>\n",
       "      <td>med</td>\n",
       "      <td>med</td>\n",
       "      <td>unacc</td>\n",
       "    </tr>\n",
       "  </tbody>\n",
       "</table>\n",
       "</div>"
      ],
      "text/plain": [
       "  buying  maint doors persons lug_boot safety    car\n",
       "0  vhigh  vhigh   two     two    small    low  unacc\n",
       "1  vhigh  vhigh   two     two    small    med  unacc\n",
       "2  vhigh  vhigh   two     two    small   high  unacc\n",
       "3  vhigh  vhigh   two     two      med    low  unacc\n",
       "4  vhigh  vhigh   two     two      med    med  unacc"
      ]
     },
     "execution_count": 6,
     "metadata": {},
     "output_type": "execute_result"
    }
   ],
   "source": [
    "#head of the database\n",
    "df.head()"
   ]
  },
  {
   "cell_type": "code",
   "execution_count": 7,
   "metadata": {
    "collapsed": false
   },
   "outputs": [
    {
     "data": {
      "text/plain": [
       "buying      object\n",
       "maint       object\n",
       "doors       object\n",
       "persons     object\n",
       "lug_boot    object\n",
       "safety      object\n",
       "car         object\n",
       "dtype: object"
      ]
     },
     "execution_count": 7,
     "metadata": {},
     "output_type": "execute_result"
    }
   ],
   "source": [
    "# showing categorical and continuous datatypes\n",
    "\n",
    "df.dtypes"
   ]
  },
  {
   "cell_type": "code",
   "execution_count": 8,
   "metadata": {
    "collapsed": false
   },
   "outputs": [
    {
     "data": {
      "text/plain": [
       "buying      0\n",
       "maint       0\n",
       "doors       0\n",
       "persons     0\n",
       "lug_boot    0\n",
       "safety      0\n",
       "car         0\n",
       "dtype: int64"
      ]
     },
     "execution_count": 8,
     "metadata": {},
     "output_type": "execute_result"
    }
   ],
   "source": [
    "# checking the null values\n",
    "df.isna().sum()"
   ]
  },
  {
   "cell_type": "markdown",
   "metadata": {},
   "source": [
    "## Slicing dependent and independent variables from dataframe"
   ]
  },
  {
   "cell_type": "code",
   "execution_count": 9,
   "metadata": {
    "collapsed": true
   },
   "outputs": [],
   "source": [
    "# Extracting the dependent and independent variable\n",
    "Y=df['car']\n",
    "X=df.drop(columns='car')"
   ]
  },
  {
   "cell_type": "code",
   "execution_count": 10,
   "metadata": {
    "collapsed": false
   },
   "outputs": [
    {
     "data": {
      "text/html": [
       "<div>\n",
       "<style scoped>\n",
       "    .dataframe tbody tr th:only-of-type {\n",
       "        vertical-align: middle;\n",
       "    }\n",
       "\n",
       "    .dataframe tbody tr th {\n",
       "        vertical-align: top;\n",
       "    }\n",
       "\n",
       "    .dataframe thead th {\n",
       "        text-align: right;\n",
       "    }\n",
       "</style>\n",
       "<table border=\"1\" class=\"dataframe\">\n",
       "  <thead>\n",
       "    <tr style=\"text-align: right;\">\n",
       "      <th></th>\n",
       "      <th>buying</th>\n",
       "      <th>maint</th>\n",
       "      <th>doors</th>\n",
       "      <th>persons</th>\n",
       "      <th>lug_boot</th>\n",
       "      <th>safety</th>\n",
       "    </tr>\n",
       "  </thead>\n",
       "  <tbody>\n",
       "    <tr>\n",
       "      <th>0</th>\n",
       "      <td>vhigh</td>\n",
       "      <td>vhigh</td>\n",
       "      <td>two</td>\n",
       "      <td>two</td>\n",
       "      <td>small</td>\n",
       "      <td>low</td>\n",
       "    </tr>\n",
       "    <tr>\n",
       "      <th>1</th>\n",
       "      <td>vhigh</td>\n",
       "      <td>vhigh</td>\n",
       "      <td>two</td>\n",
       "      <td>two</td>\n",
       "      <td>small</td>\n",
       "      <td>med</td>\n",
       "    </tr>\n",
       "    <tr>\n",
       "      <th>2</th>\n",
       "      <td>vhigh</td>\n",
       "      <td>vhigh</td>\n",
       "      <td>two</td>\n",
       "      <td>two</td>\n",
       "      <td>small</td>\n",
       "      <td>high</td>\n",
       "    </tr>\n",
       "    <tr>\n",
       "      <th>3</th>\n",
       "      <td>vhigh</td>\n",
       "      <td>vhigh</td>\n",
       "      <td>two</td>\n",
       "      <td>two</td>\n",
       "      <td>med</td>\n",
       "      <td>low</td>\n",
       "    </tr>\n",
       "    <tr>\n",
       "      <th>4</th>\n",
       "      <td>vhigh</td>\n",
       "      <td>vhigh</td>\n",
       "      <td>two</td>\n",
       "      <td>two</td>\n",
       "      <td>med</td>\n",
       "      <td>med</td>\n",
       "    </tr>\n",
       "  </tbody>\n",
       "</table>\n",
       "</div>"
      ],
      "text/plain": [
       "  buying  maint doors persons lug_boot safety\n",
       "0  vhigh  vhigh   two     two    small    low\n",
       "1  vhigh  vhigh   two     two    small    med\n",
       "2  vhigh  vhigh   two     two    small   high\n",
       "3  vhigh  vhigh   two     two      med    low\n",
       "4  vhigh  vhigh   two     two      med    med"
      ]
     },
     "execution_count": 10,
     "metadata": {},
     "output_type": "execute_result"
    }
   ],
   "source": [
    "# head of the feature variable dataset\n",
    "X.head()"
   ]
  },
  {
   "cell_type": "code",
   "execution_count": 11,
   "metadata": {
    "collapsed": true
   },
   "outputs": [],
   "source": [
    "# converting the categorical values to continuous variable\n",
    "\n",
    "df1=pd.get_dummies(X,drop_first=True)"
   ]
  },
  {
   "cell_type": "code",
   "execution_count": 12,
   "metadata": {
    "collapsed": false
   },
   "outputs": [
    {
     "data": {
      "text/plain": [
       "(1728, 15)"
      ]
     },
     "execution_count": 12,
     "metadata": {},
     "output_type": "execute_result"
    }
   ],
   "source": [
    "df1.shape"
   ]
  },
  {
   "cell_type": "code",
   "execution_count": 13,
   "metadata": {
    "collapsed": false
   },
   "outputs": [
    {
     "data": {
      "text/html": [
       "<div>\n",
       "<style scoped>\n",
       "    .dataframe tbody tr th:only-of-type {\n",
       "        vertical-align: middle;\n",
       "    }\n",
       "\n",
       "    .dataframe tbody tr th {\n",
       "        vertical-align: top;\n",
       "    }\n",
       "\n",
       "    .dataframe thead th {\n",
       "        text-align: right;\n",
       "    }\n",
       "</style>\n",
       "<table border=\"1\" class=\"dataframe\">\n",
       "  <thead>\n",
       "    <tr style=\"text-align: right;\">\n",
       "      <th></th>\n",
       "      <th>buying_low</th>\n",
       "      <th>buying_med</th>\n",
       "      <th>buying_vhigh</th>\n",
       "      <th>maint_low</th>\n",
       "      <th>maint_med</th>\n",
       "      <th>maint_vhigh</th>\n",
       "      <th>doors_four</th>\n",
       "      <th>doors_three</th>\n",
       "      <th>doors_two</th>\n",
       "      <th>persons_more</th>\n",
       "      <th>persons_two</th>\n",
       "      <th>lug_boot_med</th>\n",
       "      <th>lug_boot_small</th>\n",
       "      <th>safety_low</th>\n",
       "      <th>safety_med</th>\n",
       "    </tr>\n",
       "  </thead>\n",
       "  <tbody>\n",
       "    <tr>\n",
       "      <th>0</th>\n",
       "      <td>0</td>\n",
       "      <td>0</td>\n",
       "      <td>1</td>\n",
       "      <td>0</td>\n",
       "      <td>0</td>\n",
       "      <td>1</td>\n",
       "      <td>0</td>\n",
       "      <td>0</td>\n",
       "      <td>1</td>\n",
       "      <td>0</td>\n",
       "      <td>1</td>\n",
       "      <td>0</td>\n",
       "      <td>1</td>\n",
       "      <td>1</td>\n",
       "      <td>0</td>\n",
       "    </tr>\n",
       "    <tr>\n",
       "      <th>1</th>\n",
       "      <td>0</td>\n",
       "      <td>0</td>\n",
       "      <td>1</td>\n",
       "      <td>0</td>\n",
       "      <td>0</td>\n",
       "      <td>1</td>\n",
       "      <td>0</td>\n",
       "      <td>0</td>\n",
       "      <td>1</td>\n",
       "      <td>0</td>\n",
       "      <td>1</td>\n",
       "      <td>0</td>\n",
       "      <td>1</td>\n",
       "      <td>0</td>\n",
       "      <td>1</td>\n",
       "    </tr>\n",
       "    <tr>\n",
       "      <th>2</th>\n",
       "      <td>0</td>\n",
       "      <td>0</td>\n",
       "      <td>1</td>\n",
       "      <td>0</td>\n",
       "      <td>0</td>\n",
       "      <td>1</td>\n",
       "      <td>0</td>\n",
       "      <td>0</td>\n",
       "      <td>1</td>\n",
       "      <td>0</td>\n",
       "      <td>1</td>\n",
       "      <td>0</td>\n",
       "      <td>1</td>\n",
       "      <td>0</td>\n",
       "      <td>0</td>\n",
       "    </tr>\n",
       "    <tr>\n",
       "      <th>3</th>\n",
       "      <td>0</td>\n",
       "      <td>0</td>\n",
       "      <td>1</td>\n",
       "      <td>0</td>\n",
       "      <td>0</td>\n",
       "      <td>1</td>\n",
       "      <td>0</td>\n",
       "      <td>0</td>\n",
       "      <td>1</td>\n",
       "      <td>0</td>\n",
       "      <td>1</td>\n",
       "      <td>1</td>\n",
       "      <td>0</td>\n",
       "      <td>1</td>\n",
       "      <td>0</td>\n",
       "    </tr>\n",
       "    <tr>\n",
       "      <th>4</th>\n",
       "      <td>0</td>\n",
       "      <td>0</td>\n",
       "      <td>1</td>\n",
       "      <td>0</td>\n",
       "      <td>0</td>\n",
       "      <td>1</td>\n",
       "      <td>0</td>\n",
       "      <td>0</td>\n",
       "      <td>1</td>\n",
       "      <td>0</td>\n",
       "      <td>1</td>\n",
       "      <td>1</td>\n",
       "      <td>0</td>\n",
       "      <td>0</td>\n",
       "      <td>1</td>\n",
       "    </tr>\n",
       "  </tbody>\n",
       "</table>\n",
       "</div>"
      ],
      "text/plain": [
       "   buying_low  buying_med  buying_vhigh  maint_low  maint_med  maint_vhigh  \\\n",
       "0           0           0             1          0          0            1   \n",
       "1           0           0             1          0          0            1   \n",
       "2           0           0             1          0          0            1   \n",
       "3           0           0             1          0          0            1   \n",
       "4           0           0             1          0          0            1   \n",
       "\n",
       "   doors_four  doors_three  doors_two  persons_more  persons_two  \\\n",
       "0           0            0          1             0            1   \n",
       "1           0            0          1             0            1   \n",
       "2           0            0          1             0            1   \n",
       "3           0            0          1             0            1   \n",
       "4           0            0          1             0            1   \n",
       "\n",
       "   lug_boot_med  lug_boot_small  safety_low  safety_med  \n",
       "0             0               1           1           0  \n",
       "1             0               1           0           1  \n",
       "2             0               1           0           0  \n",
       "3             1               0           1           0  \n",
       "4             1               0           0           1  "
      ]
     },
     "execution_count": 13,
     "metadata": {},
     "output_type": "execute_result"
    }
   ],
   "source": [
    "# display the  head in df dataframe\n",
    "\n",
    "df1.head()"
   ]
  },
  {
   "cell_type": "code",
   "execution_count": 14,
   "metadata": {
    "collapsed": false
   },
   "outputs": [
    {
     "data": {
      "text/plain": [
       "buying      object\n",
       "maint       object\n",
       "doors       object\n",
       "persons     object\n",
       "lug_boot    object\n",
       "safety      object\n",
       "dtype: object"
      ]
     },
     "execution_count": 14,
     "metadata": {},
     "output_type": "execute_result"
    }
   ],
   "source": [
    "X.dtypes"
   ]
  },
  {
   "cell_type": "code",
   "execution_count": 15,
   "metadata": {
    "collapsed": false
   },
   "outputs": [
    {
     "data": {
      "text/plain": [
       "array(['unacc', 'acc', 'vgood', 'good'], dtype=object)"
      ]
     },
     "execution_count": 15,
     "metadata": {},
     "output_type": "execute_result"
    }
   ],
   "source": [
    "Y.unique()"
   ]
  },
  {
   "cell_type": "code",
   "execution_count": 20,
   "metadata": {
    "collapsed": true
   },
   "outputs": [],
   "source": [
    "#converting the categorical target variable to continuous variable\n",
    "\n",
    "st=[]\n",
    "for i in Y:\n",
    "    if(i=='unacc'):\n",
    "        st.append(4)\n",
    "    elif(i=='acc'):\n",
    "        st.append(3)\n",
    "    elif(i=='vgood'):\n",
    "        st.append(2)\n",
    "    elif(i=='good'):\n",
    "        st.append(1)"
   ]
  },
  {
   "cell_type": "markdown",
   "metadata": {},
   "source": [
    "### Splitting Dataset into Train and test"
   ]
  },
  {
   "cell_type": "code",
   "execution_count": 21,
   "metadata": {
    "collapsed": true
   },
   "outputs": [],
   "source": [
    "\n",
    "\n",
    "X_train,X_test,Y_train,Y_test=train_test_split(df1,Y,test_size=0.40,random_state=42)"
   ]
  },
  {
   "cell_type": "code",
   "execution_count": 22,
   "metadata": {
    "collapsed": false
   },
   "outputs": [
    {
     "data": {
      "text/html": [
       "<div>\n",
       "<style scoped>\n",
       "    .dataframe tbody tr th:only-of-type {\n",
       "        vertical-align: middle;\n",
       "    }\n",
       "\n",
       "    .dataframe tbody tr th {\n",
       "        vertical-align: top;\n",
       "    }\n",
       "\n",
       "    .dataframe thead th {\n",
       "        text-align: right;\n",
       "    }\n",
       "</style>\n",
       "<table border=\"1\" class=\"dataframe\">\n",
       "  <thead>\n",
       "    <tr style=\"text-align: right;\">\n",
       "      <th></th>\n",
       "      <th>car</th>\n",
       "    </tr>\n",
       "  </thead>\n",
       "  <tbody>\n",
       "    <tr>\n",
       "      <th>0</th>\n",
       "      <td>4</td>\n",
       "    </tr>\n",
       "    <tr>\n",
       "      <th>1</th>\n",
       "      <td>4</td>\n",
       "    </tr>\n",
       "    <tr>\n",
       "      <th>2</th>\n",
       "      <td>4</td>\n",
       "    </tr>\n",
       "    <tr>\n",
       "      <th>3</th>\n",
       "      <td>4</td>\n",
       "    </tr>\n",
       "    <tr>\n",
       "      <th>4</th>\n",
       "      <td>4</td>\n",
       "    </tr>\n",
       "  </tbody>\n",
       "</table>\n",
       "</div>"
      ],
      "text/plain": [
       "   car\n",
       "0    4\n",
       "1    4\n",
       "2    4\n",
       "3    4\n",
       "4    4"
      ]
     },
     "execution_count": 22,
     "metadata": {},
     "output_type": "execute_result"
    }
   ],
   "source": [
    "\n",
    "#converting the list to dataframe\n",
    "Y=pd.DataFrame(st,columns=['car'])\n",
    "Y.head()\n"
   ]
  },
  {
   "cell_type": "markdown",
   "metadata": {},
   "source": [
    "# Model Building"
   ]
  },
  {
   "cell_type": "markdown",
   "metadata": {},
   "source": [
    "## Building Linear model"
   ]
  },
  {
   "cell_type": "code",
   "execution_count": 23,
   "metadata": {
    "collapsed": true
   },
   "outputs": [],
   "source": [
    "#linear model\n",
    "\n",
    "linear_model=SVC(kernel='linear')\n",
    "linear_model.fit(X_train,Y_train)\n",
    "\n",
    "#predict\n",
    "Y_pred=linear_model.predict(X_test)"
   ]
  },
  {
   "cell_type": "code",
   "execution_count": 25,
   "metadata": {
    "collapsed": false
   },
   "outputs": [
    {
     "name": "stdout",
     "output_type": "stream",
     "text": [
      "Accuracy of lenar model: 0.9248554913294798 \n",
      "\n",
      "[[142   4  14   0]\n",
      " [  5  18   0   3]\n",
      " [ 18   0 463   0]\n",
      " [  8   0   0  17]]\n"
     ]
    }
   ],
   "source": [
    "## confusion matrix and accuracy\n",
    "\n",
    "print(\"Accuracy of lenar model:\",metrics.accuracy_score(y_true=Y_test,y_pred=Y_pred),\"\\n\")\n",
    "\n",
    "#confusion matrix\n",
    "\n",
    "print(metrics.confusion_matrix(y_true=Y_test,y_pred=Y_pred))"
   ]
  },
  {
   "cell_type": "markdown",
   "metadata": {},
   "source": [
    "**Linear model accuracy is:~92**\n",
    "\n"
   ]
  },
  {
   "cell_type": "markdown",
   "metadata": {},
   "source": [
    "## Non-linear model"
   ]
  },
  {
   "cell_type": "code",
   "execution_count": 26,
   "metadata": {
    "collapsed": true
   },
   "outputs": [],
   "source": [
    "#Non-linear model\n",
    "non_linear_model=SVC(kernel='rbf')\n",
    "non_linear_model.fit(X_train,Y_train)\n",
    "y_pred=non_linear_model.predict(X_test)"
   ]
  },
  {
   "cell_type": "code",
   "execution_count": 27,
   "metadata": {
    "collapsed": false
   },
   "outputs": [
    {
     "name": "stdout",
     "output_type": "stream",
     "text": [
      "Accuracy: 0.9248554913294798\n",
      "[[142   4  14   0]\n",
      " [  5  18   0   3]\n",
      " [ 18   0 463   0]\n",
      " [  8   0   0  17]]\n"
     ]
    }
   ],
   "source": [
    "#Accuracy\n",
    "\n",
    "print(\"Accuracy:\",metrics.accuracy_score(y_true=Y_test,y_pred=Y_pred))\n",
    "\n",
    "#Confusion matrix\n",
    "\n",
    "print(metrics.confusion_matrix(y_true=Y_test,y_pred=Y_pred))"
   ]
  },
  {
   "cell_type": "markdown",
   "metadata": {},
   "source": [
    "**Non-linear model accuracy:~92**"
   ]
  },
  {
   "cell_type": "markdown",
   "metadata": {},
   "source": [
    "## GridSearch Hypertuning for Choosing best parameters"
   ]
  },
  {
   "cell_type": "code",
   "execution_count": 35,
   "metadata": {
    "collapsed": false
   },
   "outputs": [
    {
     "name": "stdout",
     "output_type": "stream",
     "text": [
      "Fitting 5 folds for each of 25 candidates, totalling 125 fits\n"
     ]
    },
    {
     "name": "stderr",
     "output_type": "stream",
     "text": [
      "[Parallel(n_jobs=1)]: Done 125 out of 125 | elapsed:   29.5s finished\n"
     ]
    },
    {
     "data": {
      "text/plain": [
       "GridSearchCV(cv=KFold(n_splits=5, random_state=101, shuffle=True),\n",
       "       error_score='raise',\n",
       "       estimator=SVC(C=1.0, cache_size=200, class_weight=None, coef0=0.0,\n",
       "  decision_function_shape='ovr', degree=3, gamma='auto', kernel='rbf',\n",
       "  max_iter=-1, probability=False, random_state=None, shrinking=True,\n",
       "  tol=0.001, verbose=False),\n",
       "       fit_params=None, iid=True, n_jobs=1,\n",
       "       param_grid=[{'gamma': [2, 4, 6, 8, 10], 'C': [3, 5, 7, 9, 10]}],\n",
       "       pre_dispatch='2*n_jobs', refit=True, return_train_score=True,\n",
       "       scoring='accuracy', verbose=1)"
      ]
     },
     "execution_count": 35,
     "metadata": {},
     "output_type": "execute_result"
    }
   ],
   "source": [
    "#GridSearch Hyprertuning\n",
    "\n",
    "folds=KFold(n_splits=5,shuffle=True,random_state=101)\n",
    "\n",
    "hyper_params=[{'gamma':[2,4,6,8,10],'C':[3,5,7,9,10]}]\n",
    "\n",
    "model=SVC(kernel='rbf')\n",
    "model_cv=GridSearchCV(estimator=model,param_grid=hyper_params,scoring='accuracy',\n",
    "                     cv=folds,verbose=1,return_train_score=True)\n",
    "\n",
    "model_cv.fit(x_train,y_train)"
   ]
  },
  {
   "cell_type": "code",
   "execution_count": 30,
   "metadata": {
    "collapsed": false,
    "scrolled": true
   },
   "outputs": [
    {
     "data": {
      "text/html": [
       "<div>\n",
       "<style scoped>\n",
       "    .dataframe tbody tr th:only-of-type {\n",
       "        vertical-align: middle;\n",
       "    }\n",
       "\n",
       "    .dataframe tbody tr th {\n",
       "        vertical-align: top;\n",
       "    }\n",
       "\n",
       "    .dataframe thead th {\n",
       "        text-align: right;\n",
       "    }\n",
       "</style>\n",
       "<table border=\"1\" class=\"dataframe\">\n",
       "  <thead>\n",
       "    <tr style=\"text-align: right;\">\n",
       "      <th></th>\n",
       "      <th>mean_fit_time</th>\n",
       "      <th>std_fit_time</th>\n",
       "      <th>mean_score_time</th>\n",
       "      <th>std_score_time</th>\n",
       "      <th>param_C</th>\n",
       "      <th>param_gamma</th>\n",
       "      <th>params</th>\n",
       "      <th>split0_test_score</th>\n",
       "      <th>split1_test_score</th>\n",
       "      <th>split2_test_score</th>\n",
       "      <th>...</th>\n",
       "      <th>mean_test_score</th>\n",
       "      <th>std_test_score</th>\n",
       "      <th>rank_test_score</th>\n",
       "      <th>split0_train_score</th>\n",
       "      <th>split1_train_score</th>\n",
       "      <th>split2_train_score</th>\n",
       "      <th>split3_train_score</th>\n",
       "      <th>split4_train_score</th>\n",
       "      <th>mean_train_score</th>\n",
       "      <th>std_train_score</th>\n",
       "    </tr>\n",
       "  </thead>\n",
       "  <tbody>\n",
       "    <tr>\n",
       "      <th>0</th>\n",
       "      <td>0.169363</td>\n",
       "      <td>0.024590</td>\n",
       "      <td>0.014863</td>\n",
       "      <td>0.001349</td>\n",
       "      <td>3</td>\n",
       "      <td>2</td>\n",
       "      <td>{'C': 3, 'gamma': 2}</td>\n",
       "      <td>0.812500</td>\n",
       "      <td>0.806763</td>\n",
       "      <td>0.763285</td>\n",
       "      <td>...</td>\n",
       "      <td>0.800193</td>\n",
       "      <td>0.021394</td>\n",
       "      <td>1</td>\n",
       "      <td>1.0</td>\n",
       "      <td>1.0</td>\n",
       "      <td>1.0</td>\n",
       "      <td>1.0</td>\n",
       "      <td>1.0</td>\n",
       "      <td>1.0</td>\n",
       "      <td>0.0</td>\n",
       "    </tr>\n",
       "    <tr>\n",
       "      <th>1</th>\n",
       "      <td>0.202719</td>\n",
       "      <td>0.063613</td>\n",
       "      <td>0.014264</td>\n",
       "      <td>0.003810</td>\n",
       "      <td>3</td>\n",
       "      <td>4</td>\n",
       "      <td>{'C': 3, 'gamma': 4}</td>\n",
       "      <td>0.692308</td>\n",
       "      <td>0.724638</td>\n",
       "      <td>0.685990</td>\n",
       "      <td>...</td>\n",
       "      <td>0.703668</td>\n",
       "      <td>0.017235</td>\n",
       "      <td>5</td>\n",
       "      <td>1.0</td>\n",
       "      <td>1.0</td>\n",
       "      <td>1.0</td>\n",
       "      <td>1.0</td>\n",
       "      <td>1.0</td>\n",
       "      <td>1.0</td>\n",
       "      <td>0.0</td>\n",
       "    </tr>\n",
       "    <tr>\n",
       "      <th>2</th>\n",
       "      <td>0.192389</td>\n",
       "      <td>0.018349</td>\n",
       "      <td>0.016156</td>\n",
       "      <td>0.006132</td>\n",
       "      <td>3</td>\n",
       "      <td>6</td>\n",
       "      <td>{'C': 3, 'gamma': 6}</td>\n",
       "      <td>0.692308</td>\n",
       "      <td>0.724638</td>\n",
       "      <td>0.685990</td>\n",
       "      <td>...</td>\n",
       "      <td>0.703668</td>\n",
       "      <td>0.017235</td>\n",
       "      <td>5</td>\n",
       "      <td>1.0</td>\n",
       "      <td>1.0</td>\n",
       "      <td>1.0</td>\n",
       "      <td>1.0</td>\n",
       "      <td>1.0</td>\n",
       "      <td>1.0</td>\n",
       "      <td>0.0</td>\n",
       "    </tr>\n",
       "    <tr>\n",
       "      <th>3</th>\n",
       "      <td>0.316800</td>\n",
       "      <td>0.230847</td>\n",
       "      <td>0.018847</td>\n",
       "      <td>0.012618</td>\n",
       "      <td>3</td>\n",
       "      <td>8</td>\n",
       "      <td>{'C': 3, 'gamma': 8}</td>\n",
       "      <td>0.692308</td>\n",
       "      <td>0.724638</td>\n",
       "      <td>0.685990</td>\n",
       "      <td>...</td>\n",
       "      <td>0.703668</td>\n",
       "      <td>0.017235</td>\n",
       "      <td>5</td>\n",
       "      <td>1.0</td>\n",
       "      <td>1.0</td>\n",
       "      <td>1.0</td>\n",
       "      <td>1.0</td>\n",
       "      <td>1.0</td>\n",
       "      <td>1.0</td>\n",
       "      <td>0.0</td>\n",
       "    </tr>\n",
       "    <tr>\n",
       "      <th>4</th>\n",
       "      <td>0.223567</td>\n",
       "      <td>0.034385</td>\n",
       "      <td>0.023036</td>\n",
       "      <td>0.013166</td>\n",
       "      <td>3</td>\n",
       "      <td>10</td>\n",
       "      <td>{'C': 3, 'gamma': 10}</td>\n",
       "      <td>0.692308</td>\n",
       "      <td>0.724638</td>\n",
       "      <td>0.685990</td>\n",
       "      <td>...</td>\n",
       "      <td>0.703668</td>\n",
       "      <td>0.017235</td>\n",
       "      <td>5</td>\n",
       "      <td>1.0</td>\n",
       "      <td>1.0</td>\n",
       "      <td>1.0</td>\n",
       "      <td>1.0</td>\n",
       "      <td>1.0</td>\n",
       "      <td>1.0</td>\n",
       "      <td>0.0</td>\n",
       "    </tr>\n",
       "    <tr>\n",
       "      <th>5</th>\n",
       "      <td>0.242080</td>\n",
       "      <td>0.093865</td>\n",
       "      <td>0.019944</td>\n",
       "      <td>0.010307</td>\n",
       "      <td>5</td>\n",
       "      <td>2</td>\n",
       "      <td>{'C': 5, 'gamma': 2}</td>\n",
       "      <td>0.812500</td>\n",
       "      <td>0.806763</td>\n",
       "      <td>0.763285</td>\n",
       "      <td>...</td>\n",
       "      <td>0.800193</td>\n",
       "      <td>0.021394</td>\n",
       "      <td>1</td>\n",
       "      <td>1.0</td>\n",
       "      <td>1.0</td>\n",
       "      <td>1.0</td>\n",
       "      <td>1.0</td>\n",
       "      <td>1.0</td>\n",
       "      <td>1.0</td>\n",
       "      <td>0.0</td>\n",
       "    </tr>\n",
       "    <tr>\n",
       "      <th>6</th>\n",
       "      <td>0.249622</td>\n",
       "      <td>0.122426</td>\n",
       "      <td>0.022339</td>\n",
       "      <td>0.013768</td>\n",
       "      <td>5</td>\n",
       "      <td>4</td>\n",
       "      <td>{'C': 5, 'gamma': 4}</td>\n",
       "      <td>0.692308</td>\n",
       "      <td>0.724638</td>\n",
       "      <td>0.685990</td>\n",
       "      <td>...</td>\n",
       "      <td>0.703668</td>\n",
       "      <td>0.017235</td>\n",
       "      <td>5</td>\n",
       "      <td>1.0</td>\n",
       "      <td>1.0</td>\n",
       "      <td>1.0</td>\n",
       "      <td>1.0</td>\n",
       "      <td>1.0</td>\n",
       "      <td>1.0</td>\n",
       "      <td>0.0</td>\n",
       "    </tr>\n",
       "    <tr>\n",
       "      <th>7</th>\n",
       "      <td>0.308862</td>\n",
       "      <td>0.107449</td>\n",
       "      <td>0.019745</td>\n",
       "      <td>0.007173</td>\n",
       "      <td>5</td>\n",
       "      <td>6</td>\n",
       "      <td>{'C': 5, 'gamma': 6}</td>\n",
       "      <td>0.692308</td>\n",
       "      <td>0.724638</td>\n",
       "      <td>0.685990</td>\n",
       "      <td>...</td>\n",
       "      <td>0.703668</td>\n",
       "      <td>0.017235</td>\n",
       "      <td>5</td>\n",
       "      <td>1.0</td>\n",
       "      <td>1.0</td>\n",
       "      <td>1.0</td>\n",
       "      <td>1.0</td>\n",
       "      <td>1.0</td>\n",
       "      <td>1.0</td>\n",
       "      <td>0.0</td>\n",
       "    </tr>\n",
       "    <tr>\n",
       "      <th>8</th>\n",
       "      <td>0.227214</td>\n",
       "      <td>0.120883</td>\n",
       "      <td>0.016351</td>\n",
       "      <td>0.005869</td>\n",
       "      <td>5</td>\n",
       "      <td>8</td>\n",
       "      <td>{'C': 5, 'gamma': 8}</td>\n",
       "      <td>0.692308</td>\n",
       "      <td>0.724638</td>\n",
       "      <td>0.685990</td>\n",
       "      <td>...</td>\n",
       "      <td>0.703668</td>\n",
       "      <td>0.017235</td>\n",
       "      <td>5</td>\n",
       "      <td>1.0</td>\n",
       "      <td>1.0</td>\n",
       "      <td>1.0</td>\n",
       "      <td>1.0</td>\n",
       "      <td>1.0</td>\n",
       "      <td>1.0</td>\n",
       "      <td>0.0</td>\n",
       "    </tr>\n",
       "    <tr>\n",
       "      <th>9</th>\n",
       "      <td>0.257638</td>\n",
       "      <td>0.100142</td>\n",
       "      <td>0.014558</td>\n",
       "      <td>0.006864</td>\n",
       "      <td>5</td>\n",
       "      <td>10</td>\n",
       "      <td>{'C': 5, 'gamma': 10}</td>\n",
       "      <td>0.692308</td>\n",
       "      <td>0.724638</td>\n",
       "      <td>0.685990</td>\n",
       "      <td>...</td>\n",
       "      <td>0.703668</td>\n",
       "      <td>0.017235</td>\n",
       "      <td>5</td>\n",
       "      <td>1.0</td>\n",
       "      <td>1.0</td>\n",
       "      <td>1.0</td>\n",
       "      <td>1.0</td>\n",
       "      <td>1.0</td>\n",
       "      <td>1.0</td>\n",
       "      <td>0.0</td>\n",
       "    </tr>\n",
       "    <tr>\n",
       "      <th>10</th>\n",
       "      <td>0.222913</td>\n",
       "      <td>0.111318</td>\n",
       "      <td>0.015758</td>\n",
       "      <td>0.005689</td>\n",
       "      <td>7</td>\n",
       "      <td>2</td>\n",
       "      <td>{'C': 7, 'gamma': 2}</td>\n",
       "      <td>0.812500</td>\n",
       "      <td>0.806763</td>\n",
       "      <td>0.763285</td>\n",
       "      <td>...</td>\n",
       "      <td>0.800193</td>\n",
       "      <td>0.021394</td>\n",
       "      <td>1</td>\n",
       "      <td>1.0</td>\n",
       "      <td>1.0</td>\n",
       "      <td>1.0</td>\n",
       "      <td>1.0</td>\n",
       "      <td>1.0</td>\n",
       "      <td>1.0</td>\n",
       "      <td>0.0</td>\n",
       "    </tr>\n",
       "    <tr>\n",
       "      <th>11</th>\n",
       "      <td>0.233372</td>\n",
       "      <td>0.103508</td>\n",
       "      <td>0.013360</td>\n",
       "      <td>0.005871</td>\n",
       "      <td>7</td>\n",
       "      <td>4</td>\n",
       "      <td>{'C': 7, 'gamma': 4}</td>\n",
       "      <td>0.692308</td>\n",
       "      <td>0.724638</td>\n",
       "      <td>0.685990</td>\n",
       "      <td>...</td>\n",
       "      <td>0.703668</td>\n",
       "      <td>0.017235</td>\n",
       "      <td>5</td>\n",
       "      <td>1.0</td>\n",
       "      <td>1.0</td>\n",
       "      <td>1.0</td>\n",
       "      <td>1.0</td>\n",
       "      <td>1.0</td>\n",
       "      <td>1.0</td>\n",
       "      <td>0.0</td>\n",
       "    </tr>\n",
       "    <tr>\n",
       "      <th>12</th>\n",
       "      <td>0.169773</td>\n",
       "      <td>0.017108</td>\n",
       "      <td>0.015760</td>\n",
       "      <td>0.004112</td>\n",
       "      <td>7</td>\n",
       "      <td>6</td>\n",
       "      <td>{'C': 7, 'gamma': 6}</td>\n",
       "      <td>0.692308</td>\n",
       "      <td>0.724638</td>\n",
       "      <td>0.685990</td>\n",
       "      <td>...</td>\n",
       "      <td>0.703668</td>\n",
       "      <td>0.017235</td>\n",
       "      <td>5</td>\n",
       "      <td>1.0</td>\n",
       "      <td>1.0</td>\n",
       "      <td>1.0</td>\n",
       "      <td>1.0</td>\n",
       "      <td>1.0</td>\n",
       "      <td>1.0</td>\n",
       "      <td>0.0</td>\n",
       "    </tr>\n",
       "    <tr>\n",
       "      <th>13</th>\n",
       "      <td>0.173330</td>\n",
       "      <td>0.008630</td>\n",
       "      <td>0.021344</td>\n",
       "      <td>0.022769</td>\n",
       "      <td>7</td>\n",
       "      <td>8</td>\n",
       "      <td>{'C': 7, 'gamma': 8}</td>\n",
       "      <td>0.692308</td>\n",
       "      <td>0.724638</td>\n",
       "      <td>0.685990</td>\n",
       "      <td>...</td>\n",
       "      <td>0.703668</td>\n",
       "      <td>0.017235</td>\n",
       "      <td>5</td>\n",
       "      <td>1.0</td>\n",
       "      <td>1.0</td>\n",
       "      <td>1.0</td>\n",
       "      <td>1.0</td>\n",
       "      <td>1.0</td>\n",
       "      <td>1.0</td>\n",
       "      <td>0.0</td>\n",
       "    </tr>\n",
       "    <tr>\n",
       "      <th>14</th>\n",
       "      <td>0.154679</td>\n",
       "      <td>0.009655</td>\n",
       "      <td>0.013968</td>\n",
       "      <td>0.001267</td>\n",
       "      <td>7</td>\n",
       "      <td>10</td>\n",
       "      <td>{'C': 7, 'gamma': 10}</td>\n",
       "      <td>0.692308</td>\n",
       "      <td>0.724638</td>\n",
       "      <td>0.685990</td>\n",
       "      <td>...</td>\n",
       "      <td>0.703668</td>\n",
       "      <td>0.017235</td>\n",
       "      <td>5</td>\n",
       "      <td>1.0</td>\n",
       "      <td>1.0</td>\n",
       "      <td>1.0</td>\n",
       "      <td>1.0</td>\n",
       "      <td>1.0</td>\n",
       "      <td>1.0</td>\n",
       "      <td>0.0</td>\n",
       "    </tr>\n",
       "    <tr>\n",
       "      <th>15</th>\n",
       "      <td>0.138235</td>\n",
       "      <td>0.017598</td>\n",
       "      <td>0.012562</td>\n",
       "      <td>0.002790</td>\n",
       "      <td>9</td>\n",
       "      <td>2</td>\n",
       "      <td>{'C': 9, 'gamma': 2}</td>\n",
       "      <td>0.812500</td>\n",
       "      <td>0.806763</td>\n",
       "      <td>0.763285</td>\n",
       "      <td>...</td>\n",
       "      <td>0.800193</td>\n",
       "      <td>0.021394</td>\n",
       "      <td>1</td>\n",
       "      <td>1.0</td>\n",
       "      <td>1.0</td>\n",
       "      <td>1.0</td>\n",
       "      <td>1.0</td>\n",
       "      <td>1.0</td>\n",
       "      <td>1.0</td>\n",
       "      <td>0.0</td>\n",
       "    </tr>\n",
       "    <tr>\n",
       "      <th>16</th>\n",
       "      <td>0.209436</td>\n",
       "      <td>0.066738</td>\n",
       "      <td>0.014763</td>\n",
       "      <td>0.007670</td>\n",
       "      <td>9</td>\n",
       "      <td>4</td>\n",
       "      <td>{'C': 9, 'gamma': 4}</td>\n",
       "      <td>0.692308</td>\n",
       "      <td>0.724638</td>\n",
       "      <td>0.685990</td>\n",
       "      <td>...</td>\n",
       "      <td>0.703668</td>\n",
       "      <td>0.017235</td>\n",
       "      <td>5</td>\n",
       "      <td>1.0</td>\n",
       "      <td>1.0</td>\n",
       "      <td>1.0</td>\n",
       "      <td>1.0</td>\n",
       "      <td>1.0</td>\n",
       "      <td>1.0</td>\n",
       "      <td>0.0</td>\n",
       "    </tr>\n",
       "    <tr>\n",
       "      <th>17</th>\n",
       "      <td>0.182424</td>\n",
       "      <td>0.018176</td>\n",
       "      <td>0.016360</td>\n",
       "      <td>0.002642</td>\n",
       "      <td>9</td>\n",
       "      <td>6</td>\n",
       "      <td>{'C': 9, 'gamma': 6}</td>\n",
       "      <td>0.692308</td>\n",
       "      <td>0.724638</td>\n",
       "      <td>0.685990</td>\n",
       "      <td>...</td>\n",
       "      <td>0.703668</td>\n",
       "      <td>0.017235</td>\n",
       "      <td>5</td>\n",
       "      <td>1.0</td>\n",
       "      <td>1.0</td>\n",
       "      <td>1.0</td>\n",
       "      <td>1.0</td>\n",
       "      <td>1.0</td>\n",
       "      <td>1.0</td>\n",
       "      <td>0.0</td>\n",
       "    </tr>\n",
       "    <tr>\n",
       "      <th>18</th>\n",
       "      <td>0.160187</td>\n",
       "      <td>0.012495</td>\n",
       "      <td>0.018252</td>\n",
       "      <td>0.006610</td>\n",
       "      <td>9</td>\n",
       "      <td>8</td>\n",
       "      <td>{'C': 9, 'gamma': 8}</td>\n",
       "      <td>0.692308</td>\n",
       "      <td>0.724638</td>\n",
       "      <td>0.685990</td>\n",
       "      <td>...</td>\n",
       "      <td>0.703668</td>\n",
       "      <td>0.017235</td>\n",
       "      <td>5</td>\n",
       "      <td>1.0</td>\n",
       "      <td>1.0</td>\n",
       "      <td>1.0</td>\n",
       "      <td>1.0</td>\n",
       "      <td>1.0</td>\n",
       "      <td>1.0</td>\n",
       "      <td>0.0</td>\n",
       "    </tr>\n",
       "    <tr>\n",
       "      <th>19</th>\n",
       "      <td>0.159034</td>\n",
       "      <td>0.010628</td>\n",
       "      <td>0.016259</td>\n",
       "      <td>0.010401</td>\n",
       "      <td>9</td>\n",
       "      <td>10</td>\n",
       "      <td>{'C': 9, 'gamma': 10}</td>\n",
       "      <td>0.692308</td>\n",
       "      <td>0.724638</td>\n",
       "      <td>0.685990</td>\n",
       "      <td>...</td>\n",
       "      <td>0.703668</td>\n",
       "      <td>0.017235</td>\n",
       "      <td>5</td>\n",
       "      <td>1.0</td>\n",
       "      <td>1.0</td>\n",
       "      <td>1.0</td>\n",
       "      <td>1.0</td>\n",
       "      <td>1.0</td>\n",
       "      <td>1.0</td>\n",
       "      <td>0.0</td>\n",
       "    </tr>\n",
       "  </tbody>\n",
       "</table>\n",
       "<p>20 rows × 22 columns</p>\n",
       "</div>"
      ],
      "text/plain": [
       "    mean_fit_time  std_fit_time  mean_score_time  std_score_time param_C  \\\n",
       "0        0.169363      0.024590         0.014863        0.001349       3   \n",
       "1        0.202719      0.063613         0.014264        0.003810       3   \n",
       "2        0.192389      0.018349         0.016156        0.006132       3   \n",
       "3        0.316800      0.230847         0.018847        0.012618       3   \n",
       "4        0.223567      0.034385         0.023036        0.013166       3   \n",
       "5        0.242080      0.093865         0.019944        0.010307       5   \n",
       "6        0.249622      0.122426         0.022339        0.013768       5   \n",
       "7        0.308862      0.107449         0.019745        0.007173       5   \n",
       "8        0.227214      0.120883         0.016351        0.005869       5   \n",
       "9        0.257638      0.100142         0.014558        0.006864       5   \n",
       "10       0.222913      0.111318         0.015758        0.005689       7   \n",
       "11       0.233372      0.103508         0.013360        0.005871       7   \n",
       "12       0.169773      0.017108         0.015760        0.004112       7   \n",
       "13       0.173330      0.008630         0.021344        0.022769       7   \n",
       "14       0.154679      0.009655         0.013968        0.001267       7   \n",
       "15       0.138235      0.017598         0.012562        0.002790       9   \n",
       "16       0.209436      0.066738         0.014763        0.007670       9   \n",
       "17       0.182424      0.018176         0.016360        0.002642       9   \n",
       "18       0.160187      0.012495         0.018252        0.006610       9   \n",
       "19       0.159034      0.010628         0.016259        0.010401       9   \n",
       "\n",
       "   param_gamma                 params  split0_test_score  split1_test_score  \\\n",
       "0            2   {'C': 3, 'gamma': 2}           0.812500           0.806763   \n",
       "1            4   {'C': 3, 'gamma': 4}           0.692308           0.724638   \n",
       "2            6   {'C': 3, 'gamma': 6}           0.692308           0.724638   \n",
       "3            8   {'C': 3, 'gamma': 8}           0.692308           0.724638   \n",
       "4           10  {'C': 3, 'gamma': 10}           0.692308           0.724638   \n",
       "5            2   {'C': 5, 'gamma': 2}           0.812500           0.806763   \n",
       "6            4   {'C': 5, 'gamma': 4}           0.692308           0.724638   \n",
       "7            6   {'C': 5, 'gamma': 6}           0.692308           0.724638   \n",
       "8            8   {'C': 5, 'gamma': 8}           0.692308           0.724638   \n",
       "9           10  {'C': 5, 'gamma': 10}           0.692308           0.724638   \n",
       "10           2   {'C': 7, 'gamma': 2}           0.812500           0.806763   \n",
       "11           4   {'C': 7, 'gamma': 4}           0.692308           0.724638   \n",
       "12           6   {'C': 7, 'gamma': 6}           0.692308           0.724638   \n",
       "13           8   {'C': 7, 'gamma': 8}           0.692308           0.724638   \n",
       "14          10  {'C': 7, 'gamma': 10}           0.692308           0.724638   \n",
       "15           2   {'C': 9, 'gamma': 2}           0.812500           0.806763   \n",
       "16           4   {'C': 9, 'gamma': 4}           0.692308           0.724638   \n",
       "17           6   {'C': 9, 'gamma': 6}           0.692308           0.724638   \n",
       "18           8   {'C': 9, 'gamma': 8}           0.692308           0.724638   \n",
       "19          10  {'C': 9, 'gamma': 10}           0.692308           0.724638   \n",
       "\n",
       "    split2_test_score       ...         mean_test_score  std_test_score  \\\n",
       "0            0.763285       ...                0.800193        0.021394   \n",
       "1            0.685990       ...                0.703668        0.017235   \n",
       "2            0.685990       ...                0.703668        0.017235   \n",
       "3            0.685990       ...                0.703668        0.017235   \n",
       "4            0.685990       ...                0.703668        0.017235   \n",
       "5            0.763285       ...                0.800193        0.021394   \n",
       "6            0.685990       ...                0.703668        0.017235   \n",
       "7            0.685990       ...                0.703668        0.017235   \n",
       "8            0.685990       ...                0.703668        0.017235   \n",
       "9            0.685990       ...                0.703668        0.017235   \n",
       "10           0.763285       ...                0.800193        0.021394   \n",
       "11           0.685990       ...                0.703668        0.017235   \n",
       "12           0.685990       ...                0.703668        0.017235   \n",
       "13           0.685990       ...                0.703668        0.017235   \n",
       "14           0.685990       ...                0.703668        0.017235   \n",
       "15           0.763285       ...                0.800193        0.021394   \n",
       "16           0.685990       ...                0.703668        0.017235   \n",
       "17           0.685990       ...                0.703668        0.017235   \n",
       "18           0.685990       ...                0.703668        0.017235   \n",
       "19           0.685990       ...                0.703668        0.017235   \n",
       "\n",
       "    rank_test_score  split0_train_score  split1_train_score  \\\n",
       "0                 1                 1.0                 1.0   \n",
       "1                 5                 1.0                 1.0   \n",
       "2                 5                 1.0                 1.0   \n",
       "3                 5                 1.0                 1.0   \n",
       "4                 5                 1.0                 1.0   \n",
       "5                 1                 1.0                 1.0   \n",
       "6                 5                 1.0                 1.0   \n",
       "7                 5                 1.0                 1.0   \n",
       "8                 5                 1.0                 1.0   \n",
       "9                 5                 1.0                 1.0   \n",
       "10                1                 1.0                 1.0   \n",
       "11                5                 1.0                 1.0   \n",
       "12                5                 1.0                 1.0   \n",
       "13                5                 1.0                 1.0   \n",
       "14                5                 1.0                 1.0   \n",
       "15                1                 1.0                 1.0   \n",
       "16                5                 1.0                 1.0   \n",
       "17                5                 1.0                 1.0   \n",
       "18                5                 1.0                 1.0   \n",
       "19                5                 1.0                 1.0   \n",
       "\n",
       "    split2_train_score  split3_train_score  split4_train_score  \\\n",
       "0                  1.0                 1.0                 1.0   \n",
       "1                  1.0                 1.0                 1.0   \n",
       "2                  1.0                 1.0                 1.0   \n",
       "3                  1.0                 1.0                 1.0   \n",
       "4                  1.0                 1.0                 1.0   \n",
       "5                  1.0                 1.0                 1.0   \n",
       "6                  1.0                 1.0                 1.0   \n",
       "7                  1.0                 1.0                 1.0   \n",
       "8                  1.0                 1.0                 1.0   \n",
       "9                  1.0                 1.0                 1.0   \n",
       "10                 1.0                 1.0                 1.0   \n",
       "11                 1.0                 1.0                 1.0   \n",
       "12                 1.0                 1.0                 1.0   \n",
       "13                 1.0                 1.0                 1.0   \n",
       "14                 1.0                 1.0                 1.0   \n",
       "15                 1.0                 1.0                 1.0   \n",
       "16                 1.0                 1.0                 1.0   \n",
       "17                 1.0                 1.0                 1.0   \n",
       "18                 1.0                 1.0                 1.0   \n",
       "19                 1.0                 1.0                 1.0   \n",
       "\n",
       "    mean_train_score  std_train_score  \n",
       "0                1.0              0.0  \n",
       "1                1.0              0.0  \n",
       "2                1.0              0.0  \n",
       "3                1.0              0.0  \n",
       "4                1.0              0.0  \n",
       "5                1.0              0.0  \n",
       "6                1.0              0.0  \n",
       "7                1.0              0.0  \n",
       "8                1.0              0.0  \n",
       "9                1.0              0.0  \n",
       "10               1.0              0.0  \n",
       "11               1.0              0.0  \n",
       "12               1.0              0.0  \n",
       "13               1.0              0.0  \n",
       "14               1.0              0.0  \n",
       "15               1.0              0.0  \n",
       "16               1.0              0.0  \n",
       "17               1.0              0.0  \n",
       "18               1.0              0.0  \n",
       "19               1.0              0.0  \n",
       "\n",
       "[20 rows x 22 columns]"
      ]
     },
     "execution_count": 30,
     "metadata": {},
     "output_type": "execute_result"
    }
   ],
   "source": [
    "# cv results\n",
    "\n",
    "results = pd.DataFrame(model_cv.cv_results_)\n",
    "results"
   ]
  },
  {
   "cell_type": "code",
   "execution_count": 33,
   "metadata": {
    "collapsed": true
   },
   "outputs": [],
   "source": [
    "# printing the optimal accuracy score and hyperparameters\n",
    "\n",
    "score = model_cv.best_score_\n",
    "hyperparams = model_cv.best_params_"
   ]
  },
  {
   "cell_type": "code",
   "execution_count": 34,
   "metadata": {
    "collapsed": false
   },
   "outputs": [
    {
     "name": "stdout",
     "output_type": "stream",
     "text": [
      "The best test score is 0.8001930501930502 corresponding to hyperparameters {'C': 3, 'gamma': 2}\n"
     ]
    }
   ],
   "source": [
    "print(\"The best test score is {0} corresponding to hyperparameters {1}\".format(score, hyperparams))"
   ]
  },
  {
   "cell_type": "markdown",
   "metadata": {},
   "source": [
    "**Best test Score is: 0.8001930501930502<br>\n",
    "and Hyperparameters {'C': 3, 'gamma': 2}\n",
    "**"
   ]
  },
  {
   "cell_type": "code",
   "execution_count": 71,
   "metadata": {
    "collapsed": false
   },
   "outputs": [
    {
     "name": "stderr",
     "output_type": "stream",
     "text": [
      "C:\\Users\\Tarun\\Anaconda3\\lib\\site-packages\\sklearn\\utils\\validation.py:578: DataConversionWarning: A column-vector y was passed when a 1d array was expected. Please change the shape of y to (n_samples, ), for example using ravel().\n",
      "  y = column_or_1d(y, warn=True)\n"
     ]
    },
    {
     "name": "stdout",
     "output_type": "stream",
     "text": [
      "accuracy 0.8497109826589595 \n",
      "\n",
      "[[  1   0   2  32]\n",
      " [  0   4   4  12]\n",
      " [  0   0 100  53]\n",
      " [  0   0   1 483]] \n",
      "\n"
     ]
    }
   ],
   "source": [
    "# model with optimal hyperparameters\n",
    "\n",
    "# model\n",
    "model = SVC(C=3, gamma=2, kernel=\"rbf\")\n",
    "model.fit(x_train, y_train)\n",
    "y_pred = model.predict(x_test)\n",
    "\n",
    "# metrics\n",
    "\n",
    "print(\"accuracy\", metrics.accuracy_score(y_test, y_pred), \"\\n\")\n",
    "print(metrics.confusion_matrix(y_test, y_pred), \"\\n\")"
   ]
  },
  {
   "cell_type": "markdown",
   "metadata": {},
   "source": [
    "## Accuracy of the final model:\n",
    "**Linear model:~92<br>\n",
    "And, in Non-linear model:~84, \n",
    "with htyperparameters  C=3 and Gamma=2**"
   ]
  },
  {
   "cell_type": "markdown",
   "metadata": {},
   "source": []
  },
  {
   "cell_type": "code",
   "execution_count": null,
   "metadata": {
    "collapsed": true
   },
   "outputs": [],
   "source": []
  }
 ],
 "metadata": {
  "kernelspec": {
   "display_name": "Python 3",
   "language": "python",
   "name": "python3"
  },
  "language_info": {
   "codemirror_mode": {
    "name": "ipython",
    "version": 3
   },
   "file_extension": ".py",
   "mimetype": "text/x-python",
   "name": "python",
   "nbconvert_exporter": "python",
   "pygments_lexer": "ipython3",
   "version": "3.6.10"
  }
 },
 "nbformat": 4,
 "nbformat_minor": 2
}
