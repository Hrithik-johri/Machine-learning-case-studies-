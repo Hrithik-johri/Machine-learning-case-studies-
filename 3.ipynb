{
 "cells": [
  {
   "cell_type": "code",
   "execution_count": 1,
   "metadata": {
    "collapsed": true,
    "id": "t-o478KEdyP2"
   },
   "outputs": [],
   "source": [
    "import numpy as np \n",
    "\n",
    "import matplotlib.pyplot as plt\n",
    "%matplotlib inline\n",
    "\n",
    "from keras.datasets import cifar10\n",
    "\n",
    "from keras.models import Sequential\n",
    "\n",
    "from keras.layers import Dense, Dropout, Conv2D, MaxPool2D, Flatten\n",
    "\n",
    "from keras.utils import np_utils"
   ]
  },
  {
   "cell_type": "code",
   "execution_count": 6,
   "metadata": {
    "collapsed": true,
    "id": "0FuLYCRBesri"
   },
   "outputs": [],
   "source": [
    "import cv2\n",
    "import numpy as np\n",
    "import matplotlib.pyplot as plt\n",
    "import seaborn as sns; sns.set()\n",
    "from keras.datasets import cifar10\n",
    "from sklearn.preprocessing import OneHotEncoder\n",
    "from sklearn.metrics import confusion_matrix\n",
    "from keras.layers import Conv2D, MaxPool2D, Flatten, Dense, Dropout\n",
    "from keras.models import Sequential, load_model\n",
    "from keras.callbacks import EarlyStopping"
   ]
  },
  {
   "cell_type": "code",
   "execution_count": 7,
   "metadata": {
    "colab": {
     "base_uri": "https://localhost:8080/"
    },
    "collapsed": false,
    "id": "f7iOH8kid5GO",
    "outputId": "33475a5f-9146-46c7-a579-510a16270820"
   },
   "outputs": [
    {
     "name": "stdout",
     "output_type": "stream",
     "text": [
      "Shape of X_train -> (50000, 32, 32, 3)\n",
      "Shape of y_train -> (50000, 1)\n",
      "Shape of X_test -> (10000, 32, 32, 3)\n",
      "Shape of y_test -> (10000, 1)\n"
     ]
    }
   ],
   "source": [
    "(X_train, y_train), (X_test, y_test) = cifar10.load_data()\n",
    "print('Shape of X_train ->', X_train.shape)\n",
    "print('Shape of y_train ->', y_train.shape)\n",
    "print('Shape of X_test ->', X_test.shape)\n",
    "print('Shape of y_test ->', y_test.shape)\n"
   ]
  },
  {
   "cell_type": "code",
   "execution_count": 8,
   "metadata": {
    "colab": {
     "base_uri": "https://localhost:8080/"
    },
    "collapsed": false,
    "id": "QVW6Ws0-eAa4",
    "outputId": "aaa78828-6111-4a7c-94d3-1e5e58428e5c"
   },
   "outputs": [
    {
     "name": "stdout",
     "output_type": "stream",
     "text": [
      "(32, 32, 3)\n",
      "(1,)\n"
     ]
    }
   ],
   "source": [
    "print(X_train[0].shape)\n",
    "print(y_train[0].shape)"
   ]
  },
  {
   "cell_type": "code",
   "execution_count": 9,
   "metadata": {
    "collapsed": true,
    "id": "S8w-Iek6e49y"
   },
   "outputs": [],
   "source": [
    "X_train = np.array([cv2.cvtColor(image, cv2.COLOR_BGR2GRAY) for image in X_train])\n",
    "X_test = np.array([cv2.cvtColor(image, cv2.COLOR_BGR2GRAY) for image in X_test])"
   ]
  },
  {
   "cell_type": "code",
   "execution_count": 12,
   "metadata": {
    "collapsed": true,
    "id": "aCtrkHg8fFRl"
   },
   "outputs": [],
   "source": [
    "X_train  = X_train/255\n",
    "X_test  = X_test/255"
   ]
  },
  {
   "cell_type": "code",
   "execution_count": 13,
   "metadata": {
    "collapsed": true,
    "id": "vauyYJYQfLy7"
   },
   "outputs": [],
   "source": [
    "one_hot_encoder = OneHotEncoder(sparse=False)"
   ]
  },
  {
   "cell_type": "code",
   "execution_count": 14,
   "metadata": {
    "colab": {
     "base_uri": "https://localhost:8080/"
    },
    "collapsed": false,
    "id": "Y9Gk_QIzfUMI",
    "outputId": "9ff7ccae-2d70-4bab-fc18-a6e5f8f82705"
   },
   "outputs": [
    {
     "data": {
      "text/plain": [
       "OneHotEncoder(categories='auto', drop=None, dtype=<class 'numpy.float64'>,\n",
       "              handle_unknown='error', sparse=False)"
      ]
     },
     "execution_count": 14,
     "metadata": {
      "tags": []
     },
     "output_type": "execute_result"
    }
   ],
   "source": [
    "one_hot_encoder.fit(y_train)"
   ]
  },
  {
   "cell_type": "code",
   "execution_count": 15,
   "metadata": {
    "collapsed": true,
    "id": "G-a-0o1CfWls"
   },
   "outputs": [],
   "source": [
    "y_train = one_hot_encoder.transform(y_train)\n",
    "y_test = one_hot_encoder.transform(y_test)"
   ]
  },
  {
   "cell_type": "code",
   "execution_count": 16,
   "metadata": {
    "collapsed": true,
    "id": "mYPnGSALfbYJ"
   },
   "outputs": [],
   "source": [
    "X_train = X_train.reshape(X_train.shape[0], X_train.shape[1], X_train.shape[2], 1)\n",
    "X_test = X_test.reshape(X_test.shape[0], X_test.shape[1], X_test.shape[2], 1)"
   ]
  },
  {
   "cell_type": "code",
   "execution_count": 17,
   "metadata": {
    "collapsed": true,
    "id": "UcjjQGlUfg3B"
   },
   "outputs": [],
   "source": [
    "input_shape = (X_train.shape[1], X_train.shape[2], 1)"
   ]
  },
  {
   "cell_type": "code",
   "execution_count": 18,
   "metadata": {
    "collapsed": true,
    "id": "BBOxsXHUfkQg"
   },
   "outputs": [],
   "source": [
    "model = Sequential()"
   ]
  },
  {
   "cell_type": "code",
   "execution_count": 19,
   "metadata": {
    "collapsed": true,
    "id": "8_eInBAmf-oM"
   },
   "outputs": [],
   "source": [
    "model.add(Conv2D(16, (3, 3), activation='relu', strides=(1, 1), padding='same', input_shape=input_shape))\n",
    "model.add(Conv2D(32, (3, 3), activation='relu', strides=(1, 1), padding='same'))\n",
    "model.add(Conv2D(64, (3, 3), activation='relu', strides=(1, 1), padding='same'))\n",
    "model.add(Conv2D(128, (3, 3), activation='relu', strides=(1, 1), padding='same'))\n",
    "model.add(Conv2D(128, (3, 3), activation='relu', strides=(1, 1), padding='same'))\n",
    "model.add(Conv2D(64, (3, 3), activation='relu', strides=(1, 1), padding='same'))\n",
    "model.add(Conv2D(32, (3, 3), activation='relu', strides=(1, 1), padding='same'))\n",
    "model.add(Conv2D(16, (3, 3), activation='relu', strides=(1, 1), padding='same'))\n",
    "model.add(Flatten())\n",
    "model.add(Dense(10, activation='softmax'))\n"
   ]
  },
  {
   "cell_type": "code",
   "execution_count": 20,
   "metadata": {
    "collapsed": true,
    "id": "lxwGpduGigTZ"
   },
   "outputs": [],
   "source": [
    "model.compile(loss='categorical_crossentropy', optimizer='adam',metrics=['acc'])"
   ]
  },
  {
   "cell_type": "code",
   "execution_count": 22,
   "metadata": {
    "colab": {
     "base_uri": "https://localhost:8080/"
    },
    "collapsed": false,
    "id": "zIhxwjrjikny",
    "outputId": "e7786be8-d41d-4d0b-bc5d-63e4a07cb154"
   },
   "outputs": [
    {
     "name": "stdout",
     "output_type": "stream",
     "text": [
      "Epoch 1/15\n",
      "  1/391 [..............................] - ETA: 0s - loss: 2.3042 - acc: 0.0781WARNING:tensorflow:Callbacks method `on_train_batch_end` is slow compared to the batch time (batch time: 0.0157s vs `on_train_batch_end` time: 0.0319s). Check your callbacks.\n",
      "391/391 [==============================] - 22s 57ms/step - loss: 1.7154 - acc: 0.3850 - val_loss: 1.4014 - val_acc: 0.5155\n",
      "Epoch 2/15\n",
      "391/391 [==============================] - 22s 56ms/step - loss: 1.2001 - acc: 0.5829 - val_loss: 1.1385 - val_acc: 0.6011\n",
      "Epoch 3/15\n",
      "391/391 [==============================] - 22s 57ms/step - loss: 0.9856 - acc: 0.6615 - val_loss: 1.0978 - val_acc: 0.6213\n",
      "Epoch 4/15\n",
      "391/391 [==============================] - 22s 56ms/step - loss: 0.8432 - acc: 0.7084 - val_loss: 1.1098 - val_acc: 0.6206\n",
      "Epoch 5/15\n",
      "391/391 [==============================] - 22s 56ms/step - loss: 0.7258 - acc: 0.7508 - val_loss: 1.2078 - val_acc: 0.5955\n",
      "Epoch 6/15\n",
      "391/391 [==============================] - 22s 56ms/step - loss: 0.6081 - acc: 0.7905 - val_loss: 1.2997 - val_acc: 0.6064\n",
      "Epoch 7/15\n",
      "391/391 [==============================] - 22s 56ms/step - loss: 0.5022 - acc: 0.8259 - val_loss: 1.4328 - val_acc: 0.5900\n",
      "Epoch 8/15\n",
      "391/391 [==============================] - 22s 56ms/step - loss: 0.4032 - acc: 0.8585 - val_loss: 1.6460 - val_acc: 0.5837\n",
      "Epoch 9/15\n",
      "391/391 [==============================] - 22s 56ms/step - loss: 0.3169 - acc: 0.8892 - val_loss: 1.9474 - val_acc: 0.5735\n",
      "Epoch 10/15\n",
      "391/391 [==============================] - 22s 56ms/step - loss: 0.2667 - acc: 0.9043 - val_loss: 2.1406 - val_acc: 0.5680\n",
      "Epoch 11/15\n",
      "391/391 [==============================] - 22s 56ms/step - loss: 0.2194 - acc: 0.9222 - val_loss: 2.4503 - val_acc: 0.5632\n",
      "Epoch 12/15\n",
      "391/391 [==============================] - 22s 56ms/step - loss: 0.1797 - acc: 0.9353 - val_loss: 2.5333 - val_acc: 0.5604\n",
      "Epoch 13/15\n",
      "391/391 [==============================] - 22s 56ms/step - loss: 0.1557 - acc: 0.9444 - val_loss: 2.8895 - val_acc: 0.5637\n",
      "Epoch 14/15\n",
      "391/391 [==============================] - 22s 56ms/step - loss: 0.1489 - acc: 0.9462 - val_loss: 3.0984 - val_acc: 0.5631\n",
      "Epoch 15/15\n",
      "391/391 [==============================] - 22s 56ms/step - loss: 0.1256 - acc: 0.9549 - val_loss: 3.3217 - val_acc: 0.5615\n"
     ]
    },
    {
     "data": {
      "text/plain": [
       "<tensorflow.python.keras.callbacks.History at 0x7ff1401b0fd0>"
      ]
     },
     "execution_count": 22,
     "metadata": {
      "tags": []
     },
     "output_type": "execute_result"
    }
   ],
   "source": [
    "model.fit(X_train, y_train, batch_size=128, epochs=15, validation_data=(X_test, y_test))"
   ]
  },
  {
   "cell_type": "code",
   "execution_count": null,
   "metadata": {
    "collapsed": true,
    "id": "vIxpNxI2jWLN"
   },
   "outputs": [],
   "source": []
  }
 ],
 "metadata": {
  "accelerator": "GPU",
  "colab": {
   "name": "Untitled0.ipynb",
   "provenance": []
  },
  "kernelspec": {
   "display_name": "Python 3",
   "language": "python",
   "name": "python3"
  },
  "language_info": {
   "codemirror_mode": {
    "name": "ipython",
    "version": 3
   },
   "file_extension": ".py",
   "mimetype": "text/x-python",
   "name": "python",
   "nbconvert_exporter": "python",
   "pygments_lexer": "ipython3",
   "version": "3.6.10"
  }
 },
 "nbformat": 4,
 "nbformat_minor": 0
}
